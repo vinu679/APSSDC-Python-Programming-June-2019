{
 "cells": [
  {
   "cell_type": "code",
   "execution_count": 32,
   "metadata": {},
   "outputs": [
    {
     "name": "stdout",
     "output_type": "stream",
     "text": [
      "kkk2 added to contacts\n"
     ]
    }
   ],
   "source": [
    "# Function to add contact to contacts text file\n",
    "from Packages.validators import phoneNumberValidator as pnv, emailValidator as ev\n",
    "#from Packages.validators import emailValidator as ev\n",
    "\n",
    "\n",
    "def addContact(name, phone, email):\n",
    "    # store data as name,phone,email in the contacts file    \n",
    "    \n",
    "    if not checkContactExists(name):\n",
    "        if pnv(phone) and ev(email):\n",
    "            with open('DataFiles/contacts.txt', 'a') as f:\n",
    "                line = '\\n'+name + ',' + str(phone) + ',' + email\n",
    "                f.write(line)\n",
    "            print(name, 'added to contacts')\n",
    "        else:\n",
    "            print('Invalid Phone number or Email')\n",
    "            return\n",
    "    else:\n",
    "        print(name, 'already exists')\n",
    "    return\n",
    "\n",
    "import re\n",
    "# Function to check if contact already exists\n",
    "def checkContactExists(name):\n",
    "    with open('DataFiles/contacts.txt', 'r') as f:\n",
    "        filedata = f.read()\n",
    "        pattern = name+','\n",
    "    return re.search(pattern, filedata)\n",
    "\n",
    "addContact('kkk2', 7795432109, 'vinod_24@gmail.com')"
   ]
  },
  {
   "cell_type": "code",
   "execution_count": 26,
   "metadata": {},
   "outputs": [
    {
     "data": {
      "text/plain": [
       "'name3,7895432109,name3_24@gmail.com\\nname4,9995432109,name4_24@gmail.com\\n'"
      ]
     },
     "execution_count": 26,
     "metadata": {},
     "output_type": "execute_result"
    }
   ],
   "source": [
    "filename = 'DataFiles/contacts.txt'\n",
    "def csvToList(filename):\n",
    "    li = []\n",
    "    with open(filename, 'r') as f:\n",
    "        for line in f:\n",
    "            li.append(line.split(','))\n",
    "    return li\n",
    "\n",
    "def listToFile(li):\n",
    "    s = ''\n",
    "    for i in li:\n",
    "        s += ','.join(i)\n",
    "    return s\n",
    "    \n",
    "li = csvToList(filename)\n",
    "listToFile(li)"
   ]
  },
  {
   "cell_type": "code",
   "execution_count": 33,
   "metadata": {},
   "outputs": [
    {
     "name": "stdout",
     "output_type": "stream",
     "text": [
      "Enter phone number:9705504679\n",
      "Enter Email:vinu2746@gmail.com\n"
     ]
    }
   ],
   "source": [
    "# Update the contacts list\n",
    "from Packages.validators import phoneNumberValidator as pnv, emailValidator as ev , checkContactExists as ce\n",
    "def updateContact(name):\n",
    "    if ce(name):\n",
    "        phone=input(\"Enter phone number:\")\n",
    "        if pnv(phone):\n",
    "            email=input(\"Enter Email:\")\n",
    "            if ev(email):\n",
    "                li=[]\n",
    "                with open('DataFiles/contacts.txt','r') as f:\n",
    "                    for line in f:\n",
    "                        li.append(line.split(','))\n",
    "                #print(li[0][0])\n",
    "                for i in range(len(li)):\n",
    "                    if li[i][0]==name:\n",
    "                        li[i][1]=phone\n",
    "                        li[i][2]=email\n",
    "                #print(li)\n",
    "                s = ''\n",
    "                for i in li:\n",
    "                    s += ','.join(i) +'\\n'\n",
    "                with open('DataFiles/contacts.txt', 'w') as f:\n",
    "                    f.write(s)\n",
    "            else:\n",
    "                print(\"Email is not valid\")\n",
    "        else:\n",
    "            print(\"Phone number is not valid\")\n",
    "    else:\n",
    "        print(\"Name not in contacts to update\")\n",
    "updateContact(\"name1\")"
   ]
  },
  {
   "cell_type": "code",
   "execution_count": 33,
   "metadata": {},
   "outputs": [
    {
     "name": "stdout",
     "output_type": "stream",
     "text": [
      "[['kkk3', '7795432109', 'vinod_24@gmail.com\\n'], ['kkk2', '7795432109', 'vinod_24@gmail.com']]\n",
      "kkk3,7795432109,vinod_24@gmail.com\n",
      "kkk2,7795432109,vinod_24@gmail.com\n"
     ]
    }
   ],
   "source": [
    "# remove contact in a list\n",
    "from Packages.validators import checkContactExists as ce\n",
    "def removeContact(name):\n",
    "    if ce(name):\n",
    "        li=[]\n",
    "        with open('DataFiles/contacts.txt','r') as f:\n",
    "            for line in f:\n",
    "                li.append(line.split(','))\n",
    "            for i in li:\n",
    "                if i[0]==name:\n",
    "                    li.remove(i)\n",
    "            print(li)\n",
    "            s=''\n",
    "            for line in li:\n",
    "                s+=','.join(line)\n",
    "            print(s)\n",
    "            with open('DataFiles/contacts.txt', 'w') as f:\n",
    "                    f.write(s)\n",
    "    else:\n",
    "        print(\"contact not exists in contacts\")\n",
    "        \n",
    "removeContact('kkk5')"
   ]
  },
  {
   "cell_type": "code",
   "execution_count": 7,
   "metadata": {},
   "outputs": [
    {
     "name": "stdout",
     "output_type": "stream",
     "text": [
      "Phone: 9995432109   Email: vinod_24@gmail.com\n",
      "\n"
     ]
    }
   ],
   "source": [
    "## Search contact\n",
    "from Packages.validators import checkContactExists as ce\n",
    "def search(name):\n",
    "    if ce(name):\n",
    "        li=[]\n",
    "        with open('DataFiles/contacts.txt','r') as f:\n",
    "            for line in f:\n",
    "                li.append(line.split(','))\n",
    "            for i in li:\n",
    "                if i[0]==name:\n",
    "                    print(\"Phone:\",i[1],\" \",\"Email:\",i[2])\n",
    "    else:\n",
    "        print(\"Contact not exists in contact list\")\n",
    "search(\"vinod\")"
   ]
  }
 ],
 "metadata": {
  "kernelspec": {
   "display_name": "Python 3",
   "language": "python",
   "name": "python3"
  },
  "language_info": {
   "codemirror_mode": {
    "name": "ipython",
    "version": 3
   },
   "file_extension": ".py",
   "mimetype": "text/x-python",
   "name": "python",
   "nbconvert_exporter": "python",
   "pygments_lexer": "ipython3",
   "version": "3.7.3"
  }
 },
 "nbformat": 4,
 "nbformat_minor": 2
}
