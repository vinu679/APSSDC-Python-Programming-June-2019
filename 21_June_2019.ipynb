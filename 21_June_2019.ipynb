{
 "cells": [
  {
   "cell_type": "code",
   "execution_count": 18,
   "metadata": {},
   "outputs": [],
   "source": [
    "# Function to add contact to contacts text file\n",
    "from Packages.validators import phoneNumberValidator as pnv, emailValidator as ev\n",
    "#from Packages.validators import emailValidator as ev\n",
    "\n",
    "\n",
    "def addContact(name, phone, email):\n",
    "    # store data as name,phone,email in the contacts file    \n",
    "    \n",
    "    if not checkContactExists(name):\n",
    "        if pnv(phone) and ev(email):\n",
    "            with open('DataFiles/contacts.txt', 'a') as f:\n",
    "                line = '\\n'+name + ',' + str(phone) + ',' + email\n",
    "                f.write(line)\n",
    "            print(name, 'added to contacts')\n",
    "        else:\n",
    "            print('Invalid Phone number or Email')\n",
    "            return\n",
    "    else:\n",
    "        print(name, 'already exists')\n",
    "    return\n",
    "\n",
    "import re\n",
    "# Function to check if contact already exists\n",
    "def checkContactExists(name):\n",
    "    with open('DataFiles/contacts.txt', 'r') as f:\n",
    "        filedata = f.read()\n",
    "        pattern = name+','\n",
    "    return re.search(pattern, filedata)\n",
    "\n",
    "#addContact('kkk2', 7795432109, 'vinod_24@gmail.com')"
   ]
  },
  {
   "cell_type": "code",
   "execution_count": 19,
   "metadata": {},
   "outputs": [
    {
     "data": {
      "text/plain": [
       "'kkk3,7795432109,vinod_24@gmail.com\\nkkk2,7795432109,vinod_24@gmail.com\\nvinod,8979087789,vinu2746@gmail.com\\n'"
      ]
     },
     "execution_count": 19,
     "metadata": {},
     "output_type": "execute_result"
    }
   ],
   "source": [
    "filename = 'DataFiles/contacts.txt'\n",
    "def csvToList(filename):\n",
    "    li = []\n",
    "    with open(filename, 'r') as f:\n",
    "        for line in f:\n",
    "            li.append(line.split(','))\n",
    "    return li\n",
    "\n",
    "def listToFile(li):\n",
    "    s = ''\n",
    "    for i in li:\n",
    "        s += ','.join(i)\n",
    "    return s\n",
    "    \n",
    "li = csvToList(filename)\n",
    "listToFile(li)"
   ]
  },
  {
   "cell_type": "code",
   "execution_count": 20,
   "metadata": {},
   "outputs": [],
   "source": [
    "# Update the contacts list\n",
    "from Packages.validators import phoneNumberValidator as pnv, emailValidator as ev , checkContactExists as ce\n",
    "def updateContact(name):\n",
    "    if ce(name):\n",
    "        phone=input(\"Enter phone number:\")\n",
    "        if pnv(phone):\n",
    "            email=input(\"Enter Email:\")\n",
    "            if ev(email):\n",
    "                li=[]\n",
    "                with open('DataFiles/contacts.txt','r') as f:\n",
    "                    for line in f:\n",
    "                        li.append(line.split(','))\n",
    "                #print(li[0][0])\n",
    "                for i in range(len(li)):\n",
    "                    if li[i][0]==name:\n",
    "                        li[i][1]=phone\n",
    "                        li[i][2]=email\n",
    "                #print(li)\n",
    "                s = ''\n",
    "                for i in li:\n",
    "                    s += ','.join(i)\n",
    "                with open('DataFiles/contacts.txt', 'w') as f:\n",
    "                    f.write(s)\n",
    "            else:\n",
    "                print(\"Email is not valid\")\n",
    "        else:\n",
    "            print(\"Phone number is not valid\")\n",
    "    else:\n",
    "        print(\"Name not in contacts to update\")\n",
    "#updateContact(\"name1\")"
   ]
  },
  {
   "cell_type": "code",
   "execution_count": 21,
   "metadata": {},
   "outputs": [],
   "source": [
    "# remove contact in a list\n",
    "from Packages.validators import checkContactExists as ce\n",
    "def removeContact(name):\n",
    "    if ce(name):\n",
    "        li=[]\n",
    "        with open('DataFiles/contacts.txt','r') as f:\n",
    "            for line in f:\n",
    "                li.append(line.split(','))\n",
    "            for i in li:\n",
    "                if i[0]==name:\n",
    "                    li.remove(i)\n",
    "            #print(li)\n",
    "            s=''\n",
    "            for line in li:\n",
    "                s+=','.join(line)\n",
    "            #print(s)\n",
    "            with open('DataFiles/contacts.txt', 'w') as f:\n",
    "                    f.write(s)\n",
    "    else:\n",
    "        print(\"contact not exists in contacts\")\n",
    "        \n",
    "#removeContact('kkk5')"
   ]
  },
  {
   "cell_type": "code",
   "execution_count": 22,
   "metadata": {},
   "outputs": [],
   "source": [
    "## Search contact\n",
    "from Packages.validators import checkContactExists as ce\n",
    "def search(name):\n",
    "    if ce(name):\n",
    "        li=[]\n",
    "        with open('DataFiles/contacts.txt','r') as f:\n",
    "            for line in f:\n",
    "                li.append(line.split(','))\n",
    "            for i in li:\n",
    "                if i[0]==name:\n",
    "                    print(\"Phone:\",i[1],\" \",\"Email:\",i[2])\n",
    "    else:\n",
    "        print(\"Contact not exists in contact list\")\n",
    "#search(\"vinod\")"
   ]
  },
  {
   "cell_type": "code",
   "execution_count": 23,
   "metadata": {},
   "outputs": [],
   "source": [
    "def listofcontacts():\n",
    "    with open('DataFiles/contacts.txt','r') as f:\n",
    "        for line in f:\n",
    "            print(line)"
   ]
  },
  {
   "cell_type": "code",
   "execution_count": null,
   "metadata": {},
   "outputs": [],
   "source": []
  },
  {
   "cell_type": "code",
   "execution_count": null,
   "metadata": {},
   "outputs": [],
   "source": []
  },
  {
   "cell_type": "code",
   "execution_count": 24,
   "metadata": {},
   "outputs": [
    {
     "name": "stdout",
     "output_type": "stream",
     "text": [
      "Enter:\n",
      "1.Add Contact\n",
      "2.Update the contact\n",
      "3.Remove the contact\n",
      "4.Search the contact\n",
      "5.List of contacts\n",
      "1\n",
      "Enter name:vinu\n",
      "Enter Phone number:8989\n",
      "Enter Email:vinijw\n",
      "Invalid Phone number or Email\n",
      "Add contact Successfully\n",
      "Enter 1 to continue 0 to exit:0\n"
     ]
    }
   ],
   "source": [
    "from Packages.validators import phoneNumberValidator as pnv, emailValidator as ev\n",
    "n=1\n",
    "while(n):\n",
    "    k=int(input(\"Enter:\\n1.Add Contact\\n2.Update the contact\\n3.Remove the contact\\n4.Search the contact\\n5.List of contacts\\n\"))\n",
    "    if k==1:\n",
    "        n=input(\"Enter name:\")\n",
    "        p=int(input(\"Enter Phone number:\"))\n",
    "        e=input(\"Enter Email:\")\n",
    "        addContact(n,p,e)\n",
    "        print(\"Add contact Successfully\")\n",
    "    elif k==2:\n",
    "        u=input(\"Enter contact name to update:\")\n",
    "        updateContact(u)\n",
    "        print(\"Update contact Successfully\")\n",
    "    elif k==3:\n",
    "        r=input(\"Enter contact name to remove:\")\n",
    "        removeContact(r)\n",
    "        print(\"Remove contact Successfully\")\n",
    "    elif k==4:\n",
    "        s=input(\"Enter contact name to search:\")\n",
    "        search(s)\n",
    "    elif k==5:\n",
    "        print(\"Contacts List:\\n\")\n",
    "        listofcontacts()\n",
    "    n=int(input(\"Enter 1 to continue 0 to exit:\"))"
   ]
  }
 ],
 "metadata": {
  "kernelspec": {
   "display_name": "Python 3",
   "language": "python",
   "name": "python3"
  },
  "language_info": {
   "codemirror_mode": {
    "name": "ipython",
    "version": 3
   },
   "file_extension": ".py",
   "mimetype": "text/x-python",
   "name": "python",
   "nbconvert_exporter": "python",
   "pygments_lexer": "ipython3",
   "version": "3.7.3"
  }
 },
 "nbformat": 4,
 "nbformat_minor": 2
}
