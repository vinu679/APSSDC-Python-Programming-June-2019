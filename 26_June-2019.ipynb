{
 "cells": [
  {
   "cell_type": "code",
   "execution_count": 2,
   "metadata": {},
   "outputs": [],
   "source": [
    "#Find Kth smallest and heighest frequency"
   ]
  },
  {
   "cell_type": "code",
   "execution_count": 4,
   "metadata": {},
   "outputs": [
    {
     "name": "stdout",
     "output_type": "stream",
     "text": [
      "1\n",
      "aaabcd\n",
      "2\n",
      "Enter :\n",
      "1.kth Heighest\n",
      "2.kth Lowest\n",
      "1\n",
      "b\n"
     ]
    }
   ],
   "source": [
    "from collections import Counter\n",
    "def dictionairy(l,t): \n",
    "    u=dict(Counter(l))\n",
    "    k=sorted(u.items(), key =lambda x:x[0])  #after sorted it gives list of touples of (key,value) 0->key 1->value\n",
    "    d=dict(k)\n",
    "    #t=int(input(\"Enter kth element:\"))\n",
    "    l=list(dict.fromkeys(sorted(u.values(),reverse=True)))\n",
    "    #l=list(set(sorted(u.values())))\n",
    "    choice=int(input(\"Enter :\\n1.kth Heighest\\n2.kth Lowest\\n\"))\n",
    "    if choice==1:\n",
    "        if t<=len(l):\n",
    "            for j in d:\n",
    "                if d[j]==l[t-1]:\n",
    "                    print(j)\n",
    "                    break\n",
    "        else:\n",
    "            print('-1')\n",
    "    elif choice==2:\n",
    "        if t<=len(l):\n",
    "            for j in d:\n",
    "                if d[j]==l[-t]:\n",
    "                    print(j)\n",
    "                    break\n",
    "        else:\n",
    "            print('-1')\n",
    "    #print(d)\n",
    "    #print(l)\n",
    "t=int(input())\n",
    "for _ in range(t):\n",
    "    s=input()\n",
    "    k=int(input())\n",
    "    dictionairy(s,k) "
   ]
  }
 ],
 "metadata": {
  "kernelspec": {
   "display_name": "Python 3",
   "language": "python",
   "name": "python3"
  },
  "language_info": {
   "codemirror_mode": {
    "name": "ipython",
    "version": 3
   },
   "file_extension": ".py",
   "mimetype": "text/x-python",
   "name": "python",
   "nbconvert_exporter": "python",
   "pygments_lexer": "ipython3",
   "version": "3.7.3"
  }
 },
 "nbformat": 4,
 "nbformat_minor": 2
}
