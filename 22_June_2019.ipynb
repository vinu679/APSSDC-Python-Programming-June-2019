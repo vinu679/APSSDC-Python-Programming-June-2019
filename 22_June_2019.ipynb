{
 "cells": [
  {
   "cell_type": "markdown",
   "metadata": {},
   "source": [
    "## Day Objectives\n",
    "- File Handling\n",
    "    - Basic File Data Processing\n",
    "        - Accessing And Modifying File\n",
    "    - Character count\n",
    "    - Line Count\n",
    "    - File Size\n",
    "    - Word Count\n",
    "    - Unique Word Count"
   ]
  },
  {
   "cell_type": "code",
   "execution_count": 1,
   "metadata": {},
   "outputs": [
    {
     "name": "stdout",
     "output_type": "stream",
     "text": [
      "48\n"
     ]
    }
   ],
   "source": [
    "# Character Count\n",
    "def charCount(filename):\n",
    "    c=0\n",
    "    with open(filename,'r') as f:\n",
    "        for line in f:\n",
    "            c += len(line)\n",
    "    return c\n",
    "print(charCount('Datafiles/data.txt'))"
   ]
  },
  {
   "cell_type": "code",
   "execution_count": 2,
   "metadata": {},
   "outputs": [
    {
     "name": "stdout",
     "output_type": "stream",
     "text": [
      "3\n"
     ]
    }
   ],
   "source": [
    "# Line Count\n",
    "def lineCount(filename):\n",
    "    c=0\n",
    "    with open(filename,'r') as f:\n",
    "        for line in f:\n",
    "            c += 1\n",
    "    return c\n",
    "print(lineCount('Datafiles/data.txt'))"
   ]
  },
  {
   "cell_type": "code",
   "execution_count": 4,
   "metadata": {},
   "outputs": [
    {
     "name": "stdout",
     "output_type": "stream",
     "text": [
      "9\n"
     ]
    }
   ],
   "source": [
    "# Word Count\n",
    "def wordCount(filename):\n",
    "    c=0\n",
    "    with open(filename,'r') as f:\n",
    "        for line in f:\n",
    "            #w = line.split(\" \")\n",
    "            c+=len(line.split())\n",
    "           # c +=len(w)\n",
    "    return c\n",
    "print(wordCount('Datafiles/data.txt'))"
   ]
  },
  {
   "cell_type": "code",
   "execution_count": 15,
   "metadata": {},
   "outputs": [
    {
     "name": "stdout",
     "output_type": "stream",
     "text": [
      "8\n"
     ]
    }
   ],
   "source": [
    "# Unique word count\n",
    "def UniquewordCount(filename):\n",
    "    s=set()\n",
    "    with open(filename,'r') as f:\n",
    "        for line in f:\n",
    "            w = line.split(\" \")\n",
    "            for i in w:\n",
    "                s.add(i)\n",
    "        #print(s)\n",
    "    return (len(s))\n",
    "print(UniquewordCount('Datafiles/data.txt'))"
   ]
  }
 ],
 "metadata": {
  "kernelspec": {
   "display_name": "Python 3",
   "language": "python",
   "name": "python3"
  },
  "language_info": {
   "codemirror_mode": {
    "name": "ipython",
    "version": 3
   },
   "file_extension": ".py",
   "mimetype": "text/x-python",
   "name": "python",
   "nbconvert_exporter": "python",
   "pygments_lexer": "ipython3",
   "version": "3.7.3"
  }
 },
 "nbformat": 4,
 "nbformat_minor": 2
}
