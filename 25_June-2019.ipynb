{
 "cells": [
  {
   "cell_type": "code",
   "execution_count": 12,
   "metadata": {},
   "outputs": [
    {
     "name": "stdout",
     "output_type": "stream",
     "text": [
      "aaabcd\n",
      "3\n",
      "-1\n"
     ]
    }
   ],
   "source": [
    "# Kth largest frequency given a string\n",
    "\n",
    "s=input()\n",
    "k=int(input())\n",
    "a=[0]*26\n",
    "for i in s:\n",
    "    a[ord(i)-97]+=1\n",
    "k-=1\n",
    "while(k):\n",
    "    m=max(a)\n",
    "    for i in range(26):\n",
    "        if a[i]==m:\n",
    "            a[i]=0\n",
    "    k-=1\n",
    "if a.count(0)==26:\n",
    "    print(\"-1\")\n",
    "else:\n",
    "    #print(a)\n",
    "    k=max(a)\n",
    "    for i in range(26):\n",
    "        if a[i]==k:\n",
    "            print(chr(i+97))\n",
    "            break\n",
    "        "
   ]
  },
  {
   "cell_type": "code",
   "execution_count": 13,
   "metadata": {},
   "outputs": [
    {
     "name": "stdout",
     "output_type": "stream",
     "text": [
      "123\n",
      "2\n"
     ]
    }
   ],
   "source": [
    "#Average of numbers\n",
    "n=input()\n",
    "c=s=0\n",
    "for i in n:\n",
    "    s=s+int(i)\n",
    "    c+=1\n",
    "print(s//c)"
   ]
  },
  {
   "cell_type": "code",
   "execution_count": 15,
   "metadata": {},
   "outputs": [
    {
     "name": "stdout",
     "output_type": "stream",
     "text": [
      "1\n",
      "2 3 7 8 9 6\n",
      "7\n",
      "-1\n"
     ]
    }
   ],
   "source": [
    "#Kth largest of list of element having comman differece is same\n",
    "\n",
    "for _ in range(int(input())):\n",
    "    l=list(map(int,input().split()))\n",
    "    k=int(input())\n",
    "    if k>len(l):\n",
    "        print(\"-1\")\n",
    "    else:\n",
    "        print(max(l)-(k-1))"
   ]
  }
 ],
 "metadata": {
  "kernelspec": {
   "display_name": "Python 3",
   "language": "python",
   "name": "python3"
  },
  "language_info": {
   "codemirror_mode": {
    "name": "ipython",
    "version": 3
   },
   "file_extension": ".py",
   "mimetype": "text/x-python",
   "name": "python",
   "nbconvert_exporter": "python",
   "pygments_lexer": "ipython3",
   "version": "3.7.3"
  }
 },
 "nbformat": 4,
 "nbformat_minor": 2
}
