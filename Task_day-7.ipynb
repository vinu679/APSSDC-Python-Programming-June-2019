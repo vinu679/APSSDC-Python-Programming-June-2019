{
 "cells": [
  {
   "cell_type": "markdown",
   "metadata": {},
   "source": [
    "**Date : 20 June 2019**\n",
    "\n",
    "- **Day Objectives**\n",
    "    - Regular Expressions\n",
    "        - Constructing Regular Expressions for various use cases\n",
    "        - Regular Expressions Module and related in Python\n",
    "        - Improving the Contacts application with name and phone number validation using regular expressions\n",
    "    - File Handling\n",
    "        - Text Files\n",
    "        - Upgrading the Contacts Application to store contact information in a text file"
   ]
  },
  {
   "cell_type": "markdown",
   "metadata": {},
   "source": [
    "**Regular Expressions**\n",
    "\n",
    "- Pattern Matching\n",
    "- Symbolic Notation of a pattern\n",
    "    - Pattern : Format which repeats\n",
    "    - Pattern(RE) represents The set of all values that match a pattern\n",
    "- [0-9] -> Any digit\n",
    "- [a-z] -> Any lower case alphabet\n",
    "- [2468] -> All single digit multiples of 2\n",
    "- ^[0-9]{1}$ Only single digit numbers\n",
    "\n",
    "- ^[0-9]{3}$ Only 3 digit numbers\n",
    "\n",
    "- [0-9]*0$ -> All multiples of 10\n",
    "\n",
    "- ^([1-9][0-9]*[05])$|^([5])$ -> All multiples of 5\n",
    "\n",
    "- -> All 10 digit numbers\n",
    "\n",
    "- [w][o][r][d] or (word) -> Searching for a 'word'\n",
    "\n",
    "- ^[6-9][0-9]{9}$|^[0][6-9][0-9]{9}|^[+][9][1][6-9][0-9]{9}$ -> Validating Phone number(India)(start with 9876 followed by 9 - digits)\n",
    "\n",
    "- ^[a-z0-9A-z]{4,20}[@][a-z]{3,18}[.][a-z]{2,4}$-> Email Validation( username@domain.extension )"
   ]
  },
  {
   "cell_type": "code",
   "execution_count": 1,
   "metadata": {},
   "outputs": [
    {
     "name": "stdout",
     "output_type": "stream",
     "text": [
      "7995497591\n",
      "valid number\n"
     ]
    }
   ],
   "source": [
    "#Function to valid phone number or not\n",
    "import re\n",
    "def validphonenumber(n):\n",
    "    pattern=\"^[6-9][0-9]{9}$|^[0][6-9][0-9]{9}$\"\n",
    "    if re.match(pattern,str(n)):\n",
    "        print(\"valid number\")\n",
    "    else:\n",
    "        print(\"invalid number\")\n",
    "n=int(input())\n",
    "validphonenumber(n)"
   ]
  },
  {
   "cell_type": "code",
   "execution_count": 2,
   "metadata": {},
   "outputs": [
    {
     "name": "stdout",
     "output_type": "stream",
     "text": [
      "vinu2746@gmail.com\n",
      "valid mail\n"
     ]
    }
   ],
   "source": [
    "import re\n",
    "def validmail(n):\n",
    "    pattern=\"^[a-z0-9A-z]{4,20}[@][a-z]{3,18}[.][a-z]{2,4}$\"\n",
    "    if re.match(pattern,n):\n",
    "        print(\"valid mail\")\n",
    "    else:\n",
    "        print(\"invalid mail\")\n",
    "n=input()\n",
    "validmail(n)"
   ]
  },
  {
   "cell_type": "code",
   "execution_count": null,
   "metadata": {},
   "outputs": [],
   "source": [
    "contact={}\n",
    "def addcontact(name,phone):\n",
    "    #verify the contact deosnot already exist\n",
    "    if name not in contact and validphonenumber(phone):\n",
    "        contact[name]=phone\n",
    "    if not validphonenumber(phone):\n",
    "        print(\"phone number is invalid\")\n",
    "   \n",
    "    return\n",
    "addcontact(\"name1\", \"9876543210\")"
   ]
  },
  {
   "cell_type": "markdown",
   "metadata": {},
   "source": [
    "**File handling in python**\n",
    "\n",
    "- file-v Document containing information residing on the permanant storage types- text, pdf, csv etc\n",
    "\n",
    "- file I/O--- > channelling I/O data to files Default I/O channels - keyboard/screen\n",
    "\n",
    "- change I/O channel to files for reading and writing\n",
    "\n",
    "- reading a file- input from file write to a file - output to a file\n",
    "\n",
    "- read/write a file - open(filename,mode)"
   ]
  },
  {
   "cell_type": "code",
   "execution_count": 13,
   "metadata": {},
   "outputs": [
    {
     "name": "stdout",
     "output_type": "stream",
     "text": [
      "new data write in the fileline4line5"
     ]
    }
   ],
   "source": [
    "#funciton to read a file\n",
    "def readfile(filename):\n",
    "    f = open(filename,'r')\n",
    "    filedata=f.read()\n",
    "    f.close()\n",
    "    return filedata\n",
    "filename='Datafiles/data.txt'\n",
    "#filedata=readfile(filename)\n",
    "#for line in filedata.split('\\n'):\n",
    " #   print(line)\n",
    "    \n",
    "    \n",
    "def printfiledatalines(filename):\n",
    "    with open(filename,'r') as f:\n",
    "        for line in f:\n",
    "            print(line,end=\"\")\n",
    "        return\n",
    "\n",
    "printfiledatalines(filename)"
   ]
  },
  {
   "cell_type": "code",
   "execution_count": 10,
   "metadata": {},
   "outputs": [],
   "source": [
    "#function to write data into a file\n",
    "def writeintofile(filename,filedata):\n",
    "    with open(filename,'w') as f:\n",
    "        f.write(filedata)\n",
    "    return\n",
    "\n",
    "filename='Datafiles/data.txt'\n",
    "writeintofile(filename,\"new data write in the file\")"
   ]
  },
  {
   "cell_type": "code",
   "execution_count": 12,
   "metadata": {},
   "outputs": [],
   "source": [
    "#function to append data into a file\n",
    "def appenddatatofile(filename,filedata):\n",
    "     with open(filename,'a') as f:\n",
    "        f.writelines(filedata)\n",
    "     return\n",
    "\n",
    "filename='Datafiles/data.txt'\n",
    "filedata= [\"line4\",\"line5\"]\n",
    "appenddatatofile(filename,filedata)"
   ]
  },
  {
   "cell_type": "code",
   "execution_count": 14,
   "metadata": {},
   "outputs": [],
   "source": [
    "def appenddatatofile(filename,filedata):\n",
    "     with open(filename,'a') as f:\n",
    "        for line in filedata:\n",
    "            f.write('\\n'+line)\n",
    "     return\n",
    "\n",
    "filename='Datafiles/data.txt'\n",
    "filedata= [\"line4\",\"line5\"]\n",
    "appenddatatofile(filename,filedata)"
   ]
  }
 ],
 "metadata": {
  "kernelspec": {
   "display_name": "Python 3",
   "language": "python",
   "name": "python3"
  },
  "language_info": {
   "codemirror_mode": {
    "name": "ipython",
    "version": 3
   },
   "file_extension": ".py",
   "mimetype": "text/x-python",
   "name": "python",
   "nbconvert_exporter": "python",
   "pygments_lexer": "ipython3",
   "version": "3.7.3"
  }
 },
 "nbformat": 4,
 "nbformat_minor": 2
}
