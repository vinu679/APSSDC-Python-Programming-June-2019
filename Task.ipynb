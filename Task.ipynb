{
 "cells": [
  {
   "cell_type": "code",
   "execution_count": 1,
   "metadata": {},
   "outputs": [
    {
     "name": "stdout",
     "output_type": "stream",
     "text": [
      "6 12 18 24 30 36 42 48 54 60 66 72 78 84 90 96 "
     ]
    }
   ],
   "source": [
    "#function to print all numbers divisible by 6 and not a factor of 100 in a given range(lb,ub)\n",
    "\n",
    "def divisiblefunction(lb,ub):\n",
    "    for i in range(lb,ub+1):\n",
    "        if i%6==0 and 100%i!=0:\n",
    "            print(i,end=\" \")\n",
    "divisiblefunction(1,100)"
   ]
  },
  {
   "cell_type": "code",
   "execution_count": 2,
   "metadata": {},
   "outputs": [
    {
     "name": "stdout",
     "output_type": "stream",
     "text": [
      "260100.0 "
     ]
    }
   ],
   "source": [
    "# Average of cubes of all even numbers in a range\n",
    "def Average1(lb,ub):\n",
    "    sum=0\n",
    "    c=0\n",
    "    for i in range(lb,ub+1):\n",
    "        if(i%2==0):\n",
    "            sum=sum+i**3\n",
    "            c=c+1\n",
    "    print(sum/c,end=\" \")\n",
    "Average1(1,100)"
   ]
  },
  {
   "cell_type": "code",
   "execution_count": 3,
   "metadata": {},
   "outputs": [
    {
     "name": "stdout",
     "output_type": "stream",
     "text": [
      "[1, 2, 5]\n"
     ]
    }
   ],
   "source": [
    "#factors\n",
    "def factors(n):\n",
    "    l=[i for i in range(1,n) if(n%i==0)]\n",
    "    print(l)\n",
    "factors(10)"
   ]
  },
  {
   "cell_type": "code",
   "execution_count": 17,
   "metadata": {},
   "outputs": [
    {
     "data": {
      "text/plain": [
       "120"
      ]
     },
     "execution_count": 17,
     "metadata": {},
     "output_type": "execute_result"
    }
   ],
   "source": [
    "#factorial\n",
    "def factorial(n):\n",
    "    sum=1\n",
    "    for i in range(1,n+1):\n",
    "        sum=sum*i\n",
    "    return(sum)\n",
    "factorial(5)"
   ]
  },
  {
   "cell_type": "code",
   "execution_count": 5,
   "metadata": {},
   "outputs": [
    {
     "data": {
      "text/plain": [
       "True"
      ]
     },
     "execution_count": 5,
     "metadata": {},
     "output_type": "execute_result"
    }
   ],
   "source": [
    "#prime\n",
    "def prime(n):\n",
    "    count=True\n",
    "    for i in range(2,n//2):\n",
    "        if(n%i==0):\n",
    "            count=False\n",
    "    return count\n",
    "prime(3)"
   ]
  },
  {
   "cell_type": "code",
   "execution_count": 6,
   "metadata": {},
   "outputs": [
    {
     "name": "stdout",
     "output_type": "stream",
     "text": [
      "3.3333333333333335\n"
     ]
    }
   ],
   "source": [
    "#Average of first n primes\n",
    "def Averageprime(n):\n",
    "    c=s1=0\n",
    "    s=2\n",
    "    while(c<n):\n",
    "        count=0\n",
    "        for i in range(1,s):\n",
    "            if(s%i==0):\n",
    "                count=count+1\n",
    "        if count<2:\n",
    "            s1=s1+s\n",
    "            c=c+1\n",
    "        s=s+1\n",
    "    print(s1/n)\n",
    "Averageprime(3)"
   ]
  },
  {
   "cell_type": "code",
   "execution_count": null,
   "metadata": {},
   "outputs": [],
   "source": []
  },
  {
   "cell_type": "code",
   "execution_count": 8,
   "metadata": {},
   "outputs": [
    {
     "name": "stdout",
     "output_type": "stream",
     "text": [
      "6\n",
      "28\n",
      "496\n"
     ]
    }
   ],
   "source": [
    "#to generate all perfect numbers in given range\n",
    "def perfect(lb,ub):\n",
    "    for i in range(lb,ub+1):\n",
    "        sum=0\n",
    "        for j in range(1,i):\n",
    "            if(i%j==0):\n",
    "                sum=sum+j\n",
    "        if(sum==i):\n",
    "            print(i)\n",
    "perfect(1,500)"
   ]
  },
  {
   "cell_type": "code",
   "execution_count": 20,
   "metadata": {},
   "outputs": [
    {
     "data": {
      "text/plain": [
       "3.0"
      ]
     },
     "execution_count": 20,
     "metadata": {},
     "output_type": "execute_result"
    }
   ],
   "source": [
    "#Function to calculate average of all factorials in a given range\n",
    "def factorial(n):\n",
    "    sm=1\n",
    "    for i in range(1,n+1):\n",
    "        sm=sm*i\n",
    "    return(sm)\n",
    "def FactAverage(lb,ub):\n",
    "    c=0\n",
    "    for i in range(lb,ub+1):\n",
    "        c=c+factorial(i)\n",
    "    return c/(ub-lb+1)\n",
    "FactAverage(1,3)"
   ]
  },
  {
   "cell_type": "code",
   "execution_count": 16,
   "metadata": {},
   "outputs": [
    {
     "name": "stdout",
     "output_type": "stream",
     "text": [
      "153\n",
      "371\n",
      "407\n"
     ]
    }
   ],
   "source": [
    "#Function to generate N odd armstrong numbers\n",
    "def amstrong(n):\n",
    "    counter=100\n",
    "    while(n):\n",
    "        temp=counter;\n",
    "        sm=0\n",
    "        while(counter!=0):\n",
    "            r=counter%10\n",
    "            sm=sm+(r**3)\n",
    "            counter=counter//10\n",
    "        if sm==temp:\n",
    "            if(temp&1):\n",
    "                n=n-1\n",
    "                print(temp)\n",
    "        counter=temp+1\n",
    "amstrong(3)   "
   ]
  },
  {
   "cell_type": "code",
   "execution_count": 32,
   "metadata": {},
   "outputs": [
    {
     "name": "stdout",
     "output_type": "stream",
     "text": [
      "1 3 5 7 9 153 371 407 92727 1741725 "
     ]
    }
   ],
   "source": [
    "#Function to generate N odd armstrong numbersk\n",
    "def armstrong(n):\n",
    "    i=1\n",
    "    while(n):\n",
    "        res=0\n",
    "        if(i&1):\n",
    "            k=str(i)\n",
    "            for ele in k:\n",
    "                res=res+(pow(int(ele),len(k)))\n",
    "            if(i==res):\n",
    "                print(i,end=\" \");\n",
    "                n-=1\n",
    "        i=i+1\n",
    "armstrong(10)"
   ]
  },
  {
   "cell_type": "code",
   "execution_count": 22,
   "metadata": {},
   "outputs": [
    {
     "name": "stdout",
     "output_type": "stream",
     "text": [
      "10 * 100 = 1000\n",
      "10 * 101 = 1010\n",
      "10 * 102 = 1020\n"
     ]
    }
   ],
   "source": [
    "#Function to generate Multiplication table for a number in a given range\n",
    "def multiples(n,lb,ub):\n",
    "    for i in range(lb,ub+1):\n",
    "        print(n,\"*\",i,\"=\",n*i)\n",
    "multiples(10,100,102)"
   ]
  },
  {
   "cell_type": "code",
   "execution_count": 31,
   "metadata": {},
   "outputs": [
    {
     "name": "stdout",
     "output_type": "stream",
     "text": [
      "Enter1 2 3\n"
     ]
    },
    {
     "data": {
      "text/plain": [
       "1"
      ]
     },
     "execution_count": 31,
     "metadata": {},
     "output_type": "execute_result"
    }
   ],
   "source": [
    "a,b,c=list(map(int,(input(\"Enter\").split())))\n",
    "a"
   ]
  },
  {
   "cell_type": "code",
   "execution_count": 27,
   "metadata": {},
   "outputs": [
    {
     "name": "stdout",
     "output_type": "stream",
     "text": [
      "Enter1 2 3\n"
     ]
    },
    {
     "data": {
      "text/plain": [
       "['1', '2', '3']"
      ]
     },
     "execution_count": 27,
     "metadata": {},
     "output_type": "execute_result"
    }
   ],
   "source": [
    "input(\"Enter\").split()"
   ]
  },
  {
   "cell_type": "code",
   "execution_count": null,
   "metadata": {},
   "outputs": [],
   "source": [
    "for i in range(1,10,1):\n",
    "    "
   ]
  },
  {
   "cell_type": "code",
   "execution_count": 38,
   "metadata": {},
   "outputs": [
    {
     "data": {
      "text/plain": [
       "1464"
      ]
     },
     "execution_count": 38,
     "metadata": {},
     "output_type": "execute_result"
    }
   ],
   "source": [
    "#calculate no of hours for given month and year\n",
    "def leap(y):\n",
    "    if y%400==0 or (y%100!=0 and y%400==0):\n",
    "        return True\n",
    "    else:\n",
    "        return False\n",
    "def days(m1,y):\n",
    "    if m1==2:\n",
    "        if leap(y):\n",
    "            return 29\n",
    "        else:\n",
    "            return 28\n",
    "    if((m1<=7 and m1&1) or(m1>=8 and m1%2==0)):\n",
    "        return 31\n",
    "    else:\n",
    "        return 30\n",
    "def year(sy,ey):\n",
    "    count=0\n",
    "    for i in range(sy,ey+1):\n",
    "        if leap(i):\n",
    "            count+=366\n",
    "        else:\n",
    "            count+=365\n",
    "    return count\n",
    "def result(m1,y1,m2,y2):\n",
    "    day=0\n",
    "    if y1!=y2:\n",
    "        for i in range(m1,13):\n",
    "            day=day+days(i,y1)\n",
    "        for i in range(1,m2+1):\n",
    "            day=day+days(i,y2)\n",
    "        if y2-y1==2:\n",
    "            day=day+year(y1+1,y1+1)\n",
    "        elif y2-y1>2:\n",
    "            day=day+year(y1+1,y2-1)\n",
    "    else:\n",
    "        for month in range(m1,m2+1):\n",
    "            day +=days(month,y1+1)\n",
    "    return 24*day\n",
    "result(11,1999,12,1999)"
   ]
  },
  {
   "cell_type": "code",
   "execution_count": 9,
   "metadata": {},
   "outputs": [
    {
     "data": {
      "text/plain": [
       "1464"
      ]
     },
     "execution_count": 9,
     "metadata": {},
     "output_type": "execute_result"
    }
   ],
   "source": [
    "61*24\n"
   ]
  },
  {
   "cell_type": "code",
   "execution_count": null,
   "metadata": {},
   "outputs": [],
   "source": []
  }
 ],
 "metadata": {
  "kernelspec": {
   "display_name": "Python 3",
   "language": "python",
   "name": "python3"
  },
  "language_info": {
   "codemirror_mode": {
    "name": "ipython",
    "version": 3
   },
   "file_extension": ".py",
   "mimetype": "text/x-python",
   "name": "python",
   "nbconvert_exporter": "python",
   "pygments_lexer": "ipython3",
   "version": "3.7.3"
  }
 },
 "nbformat": 4,
 "nbformat_minor": 2
}
