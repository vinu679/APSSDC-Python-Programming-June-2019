{
 "cells": [
  {
   "cell_type": "markdown",
   "metadata": {},
   "source": [
    "## Markdown basics\n",
    "* **hello**<br>\n",
    "* *hello*<br>\n",
    "* ***hello***\n",
    "* Normal text\n",
    "  * sub 1\n",
    "  * sub 2\n",
    "  \n",
    "\n",
    "1. OrderList 1\n",
    "2. OrderList 2\n",
    "\n",
    "[] option 1\n",
    "\n",
    "[Jupyter Logo](day-4.png)\n",
    "\n",
    "<img src=\"day-4.png\" style=\"float:left;background:gray\">"
   ]
  },
  {
   "cell_type": "markdown",
   "metadata": {},
   "source": [
    "### Insert image\n",
    "![Jupyter Logo](day-4.png\n",
    "\n",
    "<purni2746@gmail.com>\n",
    "\n",
    "I get 10 times more traffic from [Google][1] than from\n",
    "[Yahoo][2] or [MSN][3]\n",
    "\n",
    "  [1]: http://google.com/        \"Google\"\n",
    "  [2]: http://search.yahoo.com/  \"Yahoo Search\"\n",
    "  [3]: http://search.msn.com/    \"MSN Search\""
   ]
  },
  {
   "cell_type": "markdown",
   "metadata": {},
   "source": [
    "## Python Basics\n",
    "**Python version 3.7**\n",
    "\n",
    "- **Scripting**\n",
    "- **Object Oriented**\n",
    "- **Functional**"
   ]
  },
  {
   "cell_type": "code",
   "execution_count": 8,
   "metadata": {},
   "outputs": [
    {
     "name": "stdout",
     "output_type": "stream",
     "text": [
      "Good afternoon vinod Hello world\n"
     ]
    }
   ],
   "source": [
    "#Python comment\n",
    "print(\"Good afternoon\",\"vinod\",end=\" \") #Basic Output\n",
    "print(\"Hello world\")"
   ]
  },
  {
   "cell_type": "markdown",
   "metadata": {},
   "source": [
    "### Assignment"
   ]
  },
  {
   "cell_type": "code",
   "execution_count": null,
   "metadata": {},
   "outputs": [],
   "source": [
    "n1,n2,n3=1,2,3\n",
    "l=(input().split(\" \"))\n",
    "l"
   ]
  },
  {
   "cell_type": "code",
   "execution_count": null,
   "metadata": {},
   "outputs": [],
   "source": [
    "n1,n2,n3=1,2,3\n",
    "l=(input().split(\" \"))"
   ]
  }
 ],
 "metadata": {
  "kernelspec": {
   "display_name": "Python 3",
   "language": "python",
   "name": "python3"
  },
  "language_info": {
   "codemirror_mode": {
    "name": "ipython",
    "version": 3
   },
   "file_extension": ".py",
   "mimetype": "text/x-python",
   "name": "python",
   "nbconvert_exporter": "python",
   "pygments_lexer": "ipython3",
   "version": "3.7.3"
  }
 },
 "nbformat": 4,
 "nbformat_minor": 2
}
