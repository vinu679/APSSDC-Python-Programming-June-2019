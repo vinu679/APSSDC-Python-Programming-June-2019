{
 "cells": [
  {
   "cell_type": "code",
   "execution_count": 1,
   "metadata": {},
   "outputs": [
    {
     "name": "stdout",
     "output_type": "stream",
     "text": [
      "aZ$6\n",
      "2 1\n"
     ]
    }
   ],
   "source": [
    "# HackerEarth\n",
    "# count digits and characters in a given string\n",
    "\n",
    "s=input()\n",
    "c=0\n",
    "c1=0\n",
    "for i in s:\n",
    "    k=ord(i)\n",
    "    if ((k>=ord('a') and k<=ord('z')) or ((k>=ord('A') and k<=ord('Z')))):\n",
    "        c=c+1\n",
    "    elif k>=ord('0') and k<=ord('9'):\n",
    "        c1=c1+1\n",
    "print(c,c1)"
   ]
  },
  {
   "cell_type": "code",
   "execution_count": 2,
   "metadata": {},
   "outputs": [
    {
     "name": "stdout",
     "output_type": "stream",
     "text": [
      "6\n",
      "YES\n"
     ]
    }
   ],
   "source": [
    "# Perfect\n",
    "n=int(input())\n",
    "c=0\n",
    "for i in range(1,n):\n",
    "    if(n%i==0):\n",
    "        c+=i\n",
    "if c==n:\n",
    "    print(\"YES\")\n",
    "else:\n",
    "    print(\"NO\")"
   ]
  },
  {
   "cell_type": "code",
   "execution_count": 3,
   "metadata": {},
   "outputs": [
    {
     "name": "stdout",
     "output_type": "stream",
     "text": [
      "2\n",
      "9\n",
      "5\n",
      "4\n",
      "3\n"
     ]
    }
   ],
   "source": [
    "#Greatest Remainder\n",
    "t=int(input())\n",
    "for _ in range(t):\n",
    "    n=int(input())\n",
    "    index=0\n",
    "    m=0\n",
    "    for i in range(2,n):\n",
    "        r=n%i\n",
    "        if r>m:\n",
    "            m=r\n",
    "            index=i\n",
    "    print(index)"
   ]
  },
  {
   "cell_type": "code",
   "execution_count": 4,
   "metadata": {},
   "outputs": [
    {
     "name": "stdout",
     "output_type": "stream",
     "text": [
      "2\n",
      "3\n",
      "6\n",
      "YES\n",
      "3\n",
      "NO\n",
      "1\n",
      "NO\n"
     ]
    }
   ],
   "source": [
    "## Prime factors are less than or equal to given number than print Yes\n",
    "p=int(input())\n",
    "t=int(input())\n",
    "def prime(n):\n",
    "    c=1\n",
    "    if n==2:\n",
    "        return True\n",
    "    for i in range(3,n//2+1):\n",
    "        if n%i==0:\n",
    "            c=0\n",
    "            return False\n",
    "    if c==1:\n",
    "        return True\n",
    "    else:\n",
    "        return False\n",
    "for _ in range(t):\n",
    "    n=int(input())\n",
    "    c=0\n",
    "    for i in range(2,n//2+1):\n",
    "        if n%i==0:\n",
    "            if prime(i):\n",
    "                c=c+1\n",
    "    if c>=p:\n",
    "        print(\"YES\")\n",
    "    else:\n",
    "        print(\"NO\")"
   ]
  },
  {
   "cell_type": "markdown",
   "metadata": {},
   "source": [
    "## Tuples\n",
    "- **Difference between list and tuple**"
   ]
  },
  {
   "cell_type": "code",
   "execution_count": 5,
   "metadata": {},
   "outputs": [],
   "source": [
    "tl=()\n",
    "li=[]"
   ]
  },
  {
   "cell_type": "markdown",
   "metadata": {},
   "source": [
    "- lists are mutable - canbe changed/modified\n",
    "                  - \"Access,Modify,Add,Delete data\"\n",
    "- Tuples are immutable - can't change once initialised\n",
    "                  - \"used to access data only\""
   ]
  },
  {
   "cell_type": "code",
   "execution_count": 6,
   "metadata": {},
   "outputs": [
    {
     "name": "stdout",
     "output_type": "stream",
     "text": [
      "4\n"
     ]
    }
   ],
   "source": [
    "tl=(1,2,3,4,5)\n",
    "k=tl[3]\n",
    "print(k)"
   ]
  },
  {
   "cell_type": "code",
   "execution_count": 7,
   "metadata": {},
   "outputs": [
    {
     "data": {
      "text/plain": [
       "(3, 4, 5)"
      ]
     },
     "execution_count": 7,
     "metadata": {},
     "output_type": "execute_result"
    }
   ],
   "source": [
    "tl[len(tl)//2:]"
   ]
  },
  {
   "cell_type": "code",
   "execution_count": 8,
   "metadata": {},
   "outputs": [
    {
     "data": {
      "text/plain": [
       "tuple"
      ]
     },
     "execution_count": 8,
     "metadata": {},
     "output_type": "execute_result"
    }
   ],
   "source": [
    "type(tl)"
   ]
  },
  {
   "cell_type": "markdown",
   "metadata": {},
   "source": [
    "## Dictionaries\n",
    "    - It works on the concept of set\n",
    "    - key,value\n",
    "    - key is unique identifier for a value\n",
    "    - Value is data that can be accessed with a key"
   ]
  },
  {
   "cell_type": "code",
   "execution_count": 12,
   "metadata": {},
   "outputs": [
    {
     "data": {
      "text/plain": [
       "dict_items([('k1', 'value1'), ('k2', 'value2')])"
      ]
     },
     "execution_count": 12,
     "metadata": {},
     "output_type": "execute_result"
    }
   ],
   "source": [
    "d1={\"k1\":\"value1\",\"k2\":\"value2\"}\n",
    "d1[\"k2\"] #Acesssing value with key\n",
    "d1.keys() #returns all keys\n",
    "d1.values() #returns all values\n",
    "d1.items() #returns  all items"
   ]
  },
  {
   "cell_type": "code",
   "execution_count": 13,
   "metadata": {},
   "outputs": [
    {
     "data": {
      "text/plain": [
       "{'k1': 'value1', 'k2': 'value2'}"
      ]
     },
     "execution_count": 13,
     "metadata": {},
     "output_type": "execute_result"
    }
   ],
   "source": [
    "d1[\"k3\"]=\"value3\"\n",
    "d1\n",
    "d1.pop(\"k3\")\n",
    "d1\n"
   ]
  },
  {
   "cell_type": "markdown",
   "metadata": {},
   "source": [
    "## Contacts Applications\n",
    "- Add Contact\n",
    "- Search for contacts\n",
    "- list all contacts\n",
    "    - name1:phone1\n",
    "    - name2:phone2\n",
    "- Modify Contacts\n",
    "- Remove Contacts\n"
   ]
  },
  {
   "cell_type": "code",
   "execution_count": 15,
   "metadata": {},
   "outputs": [
    {
     "name": "stdout",
     "output_type": "stream",
     "text": [
      "vinod contact is added\n",
      "vinu contact is added\n"
     ]
    }
   ],
   "source": [
    "contacts ={}\n",
    "def add(name, phone):\n",
    "    if name not in contacts:\n",
    "        contacts[name]=phone\n",
    "        print(\"%s contact is added\" %name)\n",
    "    else:\n",
    "        print(\"contact %s name is already exist\" %name)\n",
    "add(\"vinod\",7995497591)\n",
    "add(\"vinu\",9705504679)"
   ]
  },
  {
   "cell_type": "code",
   "execution_count": 16,
   "metadata": {},
   "outputs": [
    {
     "name": "stdout",
     "output_type": "stream",
     "text": [
      "vinod : 7995497591\n"
     ]
    }
   ],
   "source": [
    "def search(name):\n",
    "    if name in contacts:\n",
    "        print(name,\":\",contacts[name])\n",
    "search(\"vinod\")"
   ]
  },
  {
   "cell_type": "code",
   "execution_count": 17,
   "metadata": {},
   "outputs": [
    {
     "name": "stdout",
     "output_type": "stream",
     "text": [
      "vinod : 7995497591\n",
      "vinu : 9705504679\n"
     ]
    }
   ],
   "source": [
    "def allcontacts():\n",
    "    for names in contacts:\n",
    "        print(names,\":\",contacts[names])\n",
    "allcontacts()"
   ]
  },
  {
   "cell_type": "code",
   "execution_count": 19,
   "metadata": {},
   "outputs": [
    {
     "name": "stdout",
     "output_type": "stream",
     "text": [
      "9705504679\n",
      "vinu : 9705504679\n"
     ]
    }
   ],
   "source": [
    "def modify(name):\n",
    "    if name in contacts:\n",
    "        contacts[name]=int(input())\n",
    "        print(name,\":\",contacts[name])\n",
    "modify(\"vinu\")"
   ]
  },
  {
   "cell_type": "code",
   "execution_count": 20,
   "metadata": {},
   "outputs": [
    {
     "name": "stdout",
     "output_type": "stream",
     "text": [
      "{'vinod': 7995497591}\n"
     ]
    }
   ],
   "source": [
    "def remove(name):\n",
    "    if name in contacts:\n",
    "        contacts.pop(name)\n",
    "    print(contacts)\n",
    "remove(\"vinu\")"
   ]
  },
  {
   "cell_type": "markdown",
   "metadata": {},
   "source": [
    "## Packages and Modules\n",
    "    - Package -> Collection of Modules(Python file.py)\n",
    "    - Module -> A single python file containing functions"
   ]
  },
  {
   "cell_type": "code",
   "execution_count": 22,
   "metadata": {},
   "outputs": [
    {
     "data": {
      "text/plain": [
       "123"
      ]
     },
     "execution_count": 22,
     "metadata": {},
     "output_type": "execute_result"
    }
   ],
   "source": [
    "import math\n",
    "math.floor(123.456)"
   ]
  },
  {
   "cell_type": "code",
   "execution_count": 23,
   "metadata": {},
   "outputs": [
    {
     "name": "stdout",
     "output_type": "stream",
     "text": [
      "54 42 5 12 43 76 66 73 71 50 "
     ]
    }
   ],
   "source": [
    "#define a function to generate n random numbers in a given range\n",
    "import random\n",
    "def randomNumber(n,lb,ub):\n",
    "    for i in range(0,n):\n",
    "        print(random.randint(lb,ub),end=\" \")\n",
    "randomNumber(10,0,100)"
   ]
  },
  {
   "cell_type": "code",
   "execution_count": 26,
   "metadata": {},
   "outputs": [
    {
     "data": {
      "text/plain": [
       "True"
      ]
     },
     "execution_count": 26,
     "metadata": {},
     "output_type": "execute_result"
    }
   ],
   "source": [
    "from Packages import numerical\n",
    "numerical.isprime(5)"
   ]
  }
 ],
 "metadata": {
  "kernelspec": {
   "display_name": "Python 3",
   "language": "python",
   "name": "python3"
  },
  "language_info": {
   "codemirror_mode": {
    "name": "ipython",
    "version": 3
   },
   "file_extension": ".py",
   "mimetype": "text/x-python",
   "name": "python",
   "nbconvert_exporter": "python",
   "pygments_lexer": "ipython3",
   "version": "3.7.3"
  }
 },
 "nbformat": 4,
 "nbformat_minor": 2
}
