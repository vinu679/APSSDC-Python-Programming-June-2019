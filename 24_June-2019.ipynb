{
 "cells": [
  {
   "cell_type": "code",
   "execution_count": 38,
   "metadata": {},
   "outputs": [],
   "source": [
    "from random import randint\n",
    "with open(\"Datafiles/marks.txt\",'w') as f:\n",
    "    for i in range(1000):\n",
    "        f.write(str(randint(0,100))+'\\n')\n",
    "with open(\"Datafiles/marks.txt\",'r') as k:\n",
    "    s=ps=ds=fs=0\n",
    "    fc=pc=dc=0\n",
    "    for i in k:\n",
    "        s+=int(i)\n",
    "        if int(i)<40:\n",
    "            fc+=1\n",
    "            fs+=int(i)\n",
    "        elif int(i)>=40 and int(i)<75:\n",
    "            pc+=1\n",
    "            ps+=int(i)\n",
    "        elif int(i)>=75:\n",
    "            dc+=1\n",
    "            ds+=int(i)\n",
    "with open(\"Datafiles/marks.txt\",'a') as a:\n",
    "    print(\"Average of all students: \",s/1000,file=a)\n",
    "    print(\"Average of passed students: \",ps/pc,file=a)\n",
    "    print(\"Average of Distinction students: \",ds/dc,file=a)\n",
    "    print(\"Average of failed students: \",fs/fc,file=a)\n",
    "    print(\"\\n % Passed: \",(pc/1000)*100,file=a)\n",
    "    print(\"% Failed: \",(fc/1000)*100,file=a)\n",
    "    print(\"% Distinction: \",(dc/1000)*100,file=a)\n",
    "        "
   ]
  },
  {
   "cell_type": "code",
   "execution_count": null,
   "metadata": {},
   "outputs": [
    {
     "name": "stdout",
     "output_type": "stream",
     "text": [
      "[['new', 'data', 'write', 'in', 'the', 'fileline4line5'], ['line4', 'in', 'the', 'in'], ['line5', 'data', 'in', 'data'], ['line5', 'data', 'in', 'new']]\n",
      "Enter the word u want to replace:on\n",
      "Enter the word u want to replace:in\n",
      "Enter the word u want to replace:on\n",
      "Enter the word u want to replace:in\n"
     ]
    }
   ],
   "source": [
    "#find and replace the word count in a file\n",
    "with open(\"Datafiles/data.txt\") as f:\n",
    "    c=f.readlines()\n",
    "    l=[]\n",
    "    for i in c:\n",
    "        l.append(i.strip().split(\" \"))\n",
    "print(l)\n",
    "s=input(\"Enter the word u want to replace:\")\n",
    "\n",
    "for i in l:\n",
    "    for j in range(len(i)):\n",
    "        if i[j]==s:\n",
    "            i[j]=\n",
    "print(l)\n",
    "        "
   ]
  },
  {
   "cell_type": "code",
   "execution_count": 56,
   "metadata": {},
   "outputs": [
    {
     "data": {
      "text/plain": [
       "3"
      ]
     },
     "execution_count": 56,
     "metadata": {},
     "output_type": "execute_result"
    }
   ],
   "source": [
    "l=[[1,2,3],[2,3,4,5]]\n",
    "len(l[0])"
   ]
  }
 ],
 "metadata": {
  "kernelspec": {
   "display_name": "Python 3",
   "language": "python",
   "name": "python3"
  },
  "language_info": {
   "codemirror_mode": {
    "name": "ipython",
    "version": 3
   },
   "file_extension": ".py",
   "mimetype": "text/x-python",
   "name": "python",
   "nbconvert_exporter": "python",
   "pygments_lexer": "ipython3",
   "version": "3.7.3"
  }
 },
 "nbformat": 4,
 "nbformat_minor": 2
}
